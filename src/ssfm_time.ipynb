{
 "cells": [
  {
   "cell_type": "code",
   "execution_count": null,
   "id": "clinical-experiment",
   "metadata": {},
   "outputs": [],
   "source": [
    "import matplotlib.pyplot as plt\n",
    "import matplotlib \n",
    "\n",
    "import numpy as np\n",
    "import time\n",
    "import os\n",
    "\n",
    "import torch\n",
    "\n",
    "from matplotlib_setup import set_size, configure_latex, savefig, generate_tex_figures, thiner_border\n",
    "\n",
    "configure_latex(style=['science', 'notebook'], global_save_path=os.getcwd() + \"/porocilo/images\")"
   ]
  },
  {
   "cell_type": "code",
   "execution_count": null,
   "id": "caroline-winning",
   "metadata": {},
   "outputs": [],
   "source": [
    "from methods import Method\n",
    "\n",
    "L, T, Nt = 5, 1, 10000\n",
    "\n",
    "n, a_x, a_y, lam = 0, 1, 0, 0\n",
    "\n",
    "Ns = np.arange(100, 2100, 100)"
   ]
  },
  {
   "cell_type": "code",
   "execution_count": null,
   "id": "statutory-dominant",
   "metadata": {
    "tags": []
   },
   "outputs": [],
   "source": [
    "import time\n",
    "\n",
    "# names = ['ssfm', 'torch_ssfm']\n",
    "names = ['torch_ssfm']\n",
    "\n",
    "times = []\n",
    "\n",
    "rp = 3\n",
    "\n",
    "for m_name in names:\n",
    "    for i in range(rp):\n",
    "        print(m_name)\n",
    "        ts = []\n",
    "        for N in Ns:\n",
    "            print(N)\n",
    "            M = Method(N=N, Nt=Nt, method_name=m_name)\n",
    "            M.init_grid(L=L, T=T, backend='np' if m_name == 'ssfm' else 'torch')\n",
    "            M.init_pot(n=n, a_x=a_x, a_y=a_y, lam=lam)\n",
    "\n",
    "            start = time.time()\n",
    "            M.start_method(check_overflow=None, save_every=None)\n",
    "            end = time.time()\n",
    "\n",
    "            ts.append(end - start)\n",
    "\n",
    "            if m_name != 'ssfm':\n",
    "                torch.cuda.empty_cache()\n",
    "\n",
    "        times.append(ts)"
   ]
  },
  {
   "cell_type": "code",
   "execution_count": null,
   "id": "guilty-zambia",
   "metadata": {},
   "outputs": [],
   "source": [
    "generate_tex_figures((1, 2))"
   ]
  },
  {
   "cell_type": "code",
   "execution_count": null,
   "id": "cooked-genius",
   "metadata": {},
   "outputs": [],
   "source": [
    "t = np.array(times)\n",
    "tm = np.mean(t,axis=0)\n",
    "\n",
    "fig, ax = plt.subplots(1, 1, figsize=set_size(fraction=0.5, ratio='4:3'))\n",
    "ax = thiner_border(ax)\n",
    "ax.plot(Ns, tm, lw=1)\n",
    "ax.scatter(Ns, tm, s=10)\n",
    "ax.set_xlabel('$N$')\n",
    "ax.set_ylabel('$t$ $[s]$')\n",
    "savefig('gpu_ssfm_times')"
   ]
  },
  {
   "cell_type": "code",
   "execution_count": null,
   "id": "significant-forty",
   "metadata": {},
   "outputs": [],
   "source": []
  }
 ],
 "metadata": {
  "kernelspec": {
   "display_name": "Python 3",
   "language": "python",
   "name": "python3"
  },
  "language_info": {
   "codemirror_mode": {
    "name": "ipython",
    "version": 3
   },
   "file_extension": ".py",
   "mimetype": "text/x-python",
   "name": "python",
   "nbconvert_exporter": "python",
   "pygments_lexer": "ipython3",
   "version": "3.8.7"
  }
 },
 "nbformat": 4,
 "nbformat_minor": 5
}
