{
 "cells": [
  {
   "cell_type": "code",
   "execution_count": null,
   "id": "ceramic-parade",
   "metadata": {},
   "outputs": [],
   "source": [
    "import numpy as np\n",
    "import pickle\n",
    "import time\n",
    "import os\n",
    "import torch\n",
    "from tqdm import tqdm\n",
    "\n",
    "import matplotlib.pyplot as plt\n",
    "from matplotlib_setup import set_size, configure_latex, savefig, generate_tex_figures, thiner_border\n",
    "\n",
    "from utils import calculate_E, plot_Es, plot_max_values, plot_norms\n",
    "\n",
    "configure_latex(style=['science', 'notebook'], global_save_path=os.getcwd() + \"/porocilo/images\")"
   ]
  },
  {
   "cell_type": "code",
   "execution_count": null,
   "id": "hydraulic-kentucky",
   "metadata": {
    "tags": []
   },
   "outputs": [],
   "source": [
    "from methods import Method\n",
    "\n",
    "L, T, Nt = 5, 5, 15000\n",
    "N = 512\n",
    "n, a_x, a_y = 0, 1, 1\n",
    "\n",
    "lams = np.linspace(0, 10, 2)\n",
    "\n",
    "saved_psis = []\n",
    "Ms = []\n",
    "for lam in lams:\n",
    "    print(f'lam={lam}')\n",
    "    M = Method(N=N, Nt=Nt, method_name='torch_ssfm')\n",
    "    M.init_grid(L=L, T=T, backend='torch')\n",
    "    M.init_pot(n=n, a_x=a_x, a_y=a_y, lam=lam)\n",
    "\n",
    "    saved_psi = M.start_method(check_overflow=None, save_every=Nt // 100, im_time=True, renormalize_every=1)\n",
    "    saved_psis.append(saved_psi.copy())\n",
    "    \n",
    "    M.X, M.Y = None, None\n",
    "    M.k_X, M.k_Y = None, None\n",
    "    Ms.append(M)\n",
    "    torch.cuda.empty_cache()"
   ]
  },
  {
   "cell_type": "code",
   "execution_count": null,
   "id": "exposed-textbook",
   "metadata": {},
   "outputs": [],
   "source": [
    "fig, axs = plt.subplots(1, 1, figsize=set_size(fraction=0.5, ratio='4:3'))\n",
    "axs = thiner_border(axs)\n",
    "\n",
    "El = []\n",
    "\n",
    "for i, (saved_psi, M) in enumerate(zip(saved_psis, Ms)):\n",
    "    \n",
    "    E, Ek, Ep = calculate_E(saved_psi, M.grid.hr, V=M.pot.V.cpu().numpy())\n",
    "    plt.plot(M.grid.t[::150], E, label=r'$\\lambda$={:.2f}'.format(lams[i]), lw=0.7)\n",
    "    \n",
    "    print(lams[i], E[-1])\n",
    "    El.append(E[-1])\n",
    "    \n",
    "axs.set_xlabel(r'$t$')\n",
    "axs.set_ylabel('$E$')\n",
    "# plt.legend(fontsize=7)\n",
    "# savefig('Evst')"
   ]
  },
  {
   "cell_type": "code",
   "execution_count": null,
   "id": "introductory-table",
   "metadata": {},
   "outputs": [],
   "source": [
    "fig, ax = plt.subplots(1, 1, figsize=set_size(fraction=0.5, ratio='4:3'))\n",
    "ax = thiner_border(ax)\n",
    "\n",
    "ax.plot(lams, El, lw=1)\n",
    "ax.scatter(lams, El, s=4)\n",
    "ax.set_xlabel('$\\lambda$')\n",
    "ax.set_ylabel('$E$')\n",
    "\n",
    "ax.annotate(f'$a_x={a_x}, a_y={a_y}, L={L}$', xy=(0.55, 0.4), xycoords='axes fraction', fontsize=5)\n",
    "ax.annotate(fr'$N \\times N = {N} \\times {N}$', xy=(0.55, 0.3), xycoords='axes fraction', fontsize=5)\n",
    "ax.annotate(r'$\\Delta t = {:.2e}$'.format(T/Nt), xy=(0.55, 0.2), xycoords='axes fraction', fontsize=5)\n",
    "# savefig('EvsLam2')"
   ]
  },
  {
   "cell_type": "code",
   "execution_count": null,
   "id": "lightweight-proxy",
   "metadata": {},
   "outputs": [],
   "source": [
    "fig, axs = plt.subplots(1, 2, figsize=set_size(subplots=(1, 2), fraction=1, ratio='4:3'))\n",
    "axs = [thiner_border(i) for i in axs]\n",
    "\n",
    "L, T, Nt = 15, 20, 50000\n",
    "N = 1024\n",
    "n, a_x, a_y = 2, 5, 0\n",
    "lam = 0.05\n",
    "\n",
    "M = Method(N=N, Nt=Nt, method_name='torch_ssfm')\n",
    "M.init_grid(L=L, T=T, backend='torch')\n",
    "M.init_pot(n=n, a_x=a_x, a_y=a_y, lam=lam)\n",
    "\n",
    "saved_psi = M.start_method(check_overflow=None, save_every=Nt // 200, im_time=False, renormalize_every=1)\n",
    "\n",
    "E, Ek, Ep = calculate_E(saved_psi, M.grid.hr, V=M.pot.V.cpu().numpy())\n",
    "plot_Es(E, Ek, Ep, norm=False, mode=2, axs=axs, lw=1, show=False)\n",
    "\n",
    "k = Nt // 200\n",
    "\n",
    "axs[0].set_xlabel(r'koraki $\\times$ {}'.format(k))\n",
    "axs[0].set_ylabel('skupna energija')\n",
    "    \n",
    "axs[1].set_xlabel(r'koraki $\\times$ {}'.format(k))\n",
    "axs[1].set_ylabel('energija')\n",
    "\n",
    "# savefig('xy')"
   ]
  },
  {
   "cell_type": "code",
   "execution_count": null,
   "id": "funded-printer",
   "metadata": {
    "tags": []
   },
   "outputs": [],
   "source": [
    "from utils import calculate_xy\n",
    "\n",
    "xy = calculate_xy(saved_psi, M.grid.X_np, M.grid.Y_np, M.grid.hr)\n",
    "x, y = xy[0], xy[1]"
   ]
  },
  {
   "cell_type": "code",
   "execution_count": null,
   "id": "working-breed",
   "metadata": {},
   "outputs": [],
   "source": [
    "fig, ax = plt.subplots(1, 1, figsize=set_size(subplots=(1, 1), fraction=0.5, ratio='4:3'))\n",
    "ax = thiner_border(ax)\n",
    "\n",
    "ax.plot(x, y, lw=0.8, c='C5')\n",
    "ax.set_ylabel(r'$\\langle y \\rangle$')\n",
    "ax.set_xlabel(r'$\\langle x \\rangle$')\n",
    "ax.annotate(f'$a_x={a_x}, a_y={a_y}, L={L}$', xy=(0.55, 0.28), xycoords='axes fraction', fontsize=5)\n",
    "ax.annotate(fr'$N \\times N = {N} \\times {N}$', xy=(0.55, 0.20), xycoords='axes fraction', fontsize=5)\n",
    "ax.annotate(r'$\\Delta t = {:.2e}$'.format(T/Nt), xy=(0.55, 0.14), xycoords='axes fraction', fontsize=5)\n",
    "ax.annotate(r'$\\lambda = {}$'.format(lam), xy=(0.55, 0.06), xycoords='axes fraction', fontsize=5)\n",
    "# savefig('xvsy')"
   ]
  },
  {
   "cell_type": "code",
   "execution_count": null,
   "id": "lined-spray",
   "metadata": {},
   "outputs": [],
   "source": [
    "fig, ax = plt.subplots(1, 1, figsize=set_size(subplots=(1, 1), fraction=0.5, ratio='4:3'))\n",
    "ax = thiner_border(ax)\n",
    "\n",
    "ax.plot(M.grid.t[::k], y, lw=1, c='C0')\n",
    "ax.plot(M.grid.t[::k], x, lw=1, c='C1')\n",
    "ax.legend([r'$\\langle y \\rangle$', r'$\\langle x \\rangle$'])\n",
    "ax.set_xlabel(r'$t$')\n",
    "ax.set_ylabel(r'$\\langle$koordinate$\\rangle$')\n",
    "# savefig('xyvst')"
   ]
  },
  {
   "cell_type": "code",
   "execution_count": null,
   "id": "worth-impossible",
   "metadata": {},
   "outputs": [],
   "source": [
    "# px = np.gradient(x, M.grid.ht)\n",
    "# py = np.gradient(y, M.grid.ht)\n",
    "# plt.plot(px, py)"
   ]
  },
  {
   "cell_type": "code",
   "execution_count": null,
   "id": "italic-power",
   "metadata": {},
   "outputs": [],
   "source": [
    "# plt.plot(range(len(px)), px / np.max(np.abs(px)))\n",
    "# plt.plot(range(len(py)), py / np.max(np.abs(py)))"
   ]
  },
  {
   "cell_type": "code",
   "execution_count": null,
   "id": "latest-christopher",
   "metadata": {},
   "outputs": [],
   "source": [
    "from utils import probability_density\n",
    "\n",
    "psis = probability_density(saved_psi, N=M.grid.X_np.shape[0])"
   ]
  },
  {
   "cell_type": "code",
   "execution_count": null,
   "id": "sound-activity",
   "metadata": {},
   "outputs": [],
   "source": [
    "fig, axs = plt.subplots(10, 10, figsize=(30, 30))\n",
    "axs = axs.flatten()\n",
    "\n",
    "for i, psi in tqdm(enumerate(psis[::2])):\n",
    "    axs[i].contourf(M.grid.X_np, M.grid.Y_np, psi, 50, cmap=\"viridis\")\n",
    "    axs[i].set_xticklabels([])\n",
    "    axs[i].set_xticks([])\n",
    "    axs[i].set_yticklabels([])\n",
    "    axs[i].set_yticks([])\n",
    "    \n",
    "plt.tight_layout()\n",
    "plt.savefig('lam05.png', dpi=200)"
   ]
  },
  {
   "cell_type": "code",
   "execution_count": null,
   "id": "permanent-allocation",
   "metadata": {},
   "outputs": [],
   "source": []
  },
  {
   "cell_type": "code",
   "execution_count": null,
   "id": "generic-shirt",
   "metadata": {},
   "outputs": [],
   "source": []
  },
  {
   "cell_type": "code",
   "execution_count": null,
   "id": "statewide-enlargement",
   "metadata": {},
   "outputs": [],
   "source": []
  }
 ],
 "metadata": {
  "kernelspec": {
   "display_name": "Python 3",
   "language": "python",
   "name": "python3"
  },
  "language_info": {
   "codemirror_mode": {
    "name": "ipython",
    "version": 3
   },
   "file_extension": ".py",
   "mimetype": "text/x-python",
   "name": "python",
   "nbconvert_exporter": "python",
   "pygments_lexer": "ipython3",
   "version": "3.8.7"
  }
 },
 "nbformat": 4,
 "nbformat_minor": 5
}
